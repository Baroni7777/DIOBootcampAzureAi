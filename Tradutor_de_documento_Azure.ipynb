{
  "nbformat": 4,
  "nbformat_minor": 0,
  "metadata": {
    "colab": {
      "provenance": [],
      "toc_visible": true
    },
    "kernelspec": {
      "name": "python3",
      "display_name": "Python 3"
    },
    "language_info": {
      "name": "python"
    }
  },
  "cells": [
    {
      "cell_type": "code",
      "execution_count": 2,
      "metadata": {
        "colab": {
          "base_uri": "https://localhost:8080/"
        },
        "id": "8hOZDZKII-C6",
        "outputId": "cb43045b-cf51-4ec0-e39b-ea0b68603136"
      },
      "outputs": [
        {
          "output_type": "stream",
          "name": "stdout",
          "text": [
            "Requirement already satisfied: requests in /usr/local/lib/python3.10/dist-packages (2.32.3)\n",
            "Collecting python-docx\n",
            "  Downloading python_docx-1.1.2-py3-none-any.whl.metadata (2.0 kB)\n",
            "Requirement already satisfied: charset-normalizer<4,>=2 in /usr/local/lib/python3.10/dist-packages (from requests) (3.4.0)\n",
            "Requirement already satisfied: idna<4,>=2.5 in /usr/local/lib/python3.10/dist-packages (from requests) (3.10)\n",
            "Requirement already satisfied: urllib3<3,>=1.21.1 in /usr/local/lib/python3.10/dist-packages (from requests) (2.2.3)\n",
            "Requirement already satisfied: certifi>=2017.4.17 in /usr/local/lib/python3.10/dist-packages (from requests) (2024.8.30)\n",
            "Requirement already satisfied: lxml>=3.1.0 in /usr/local/lib/python3.10/dist-packages (from python-docx) (5.3.0)\n",
            "Requirement already satisfied: typing-extensions>=4.9.0 in /usr/local/lib/python3.10/dist-packages (from python-docx) (4.12.2)\n",
            "Downloading python_docx-1.1.2-py3-none-any.whl (244 kB)\n",
            "\u001b[2K   \u001b[90m━━━━━━━━━━━━━━━━━━━━━━━━━━━━━━━━━━━━━━━━\u001b[0m \u001b[32m244.3/244.3 kB\u001b[0m \u001b[31m4.5 MB/s\u001b[0m eta \u001b[36m0:00:00\u001b[0m\n",
            "\u001b[?25hInstalling collected packages: python-docx\n",
            "Successfully installed python-docx-1.1.2\n"
          ]
        }
      ],
      "source": [
        "!pip install requests python-docx"
      ]
    },
    {
      "cell_type": "code",
      "source": [
        "from docx import Document\n",
        "import os\n",
        "import requests\n",
        "\n",
        "subscription_key = \"\"\n",
        "endpoint = \"https://api.cognitive.microsofttranslator.com\"\n",
        "location = \"eastus\"\n",
        "language_destination = 'pt-br'\n",
        "\n",
        "def translator_text(text, target_language):\n",
        "    path = '/translate'\n",
        "    constructed_url = endpoint + path\n",
        "    headers = {\n",
        "        'Ocp-Apim-Subscription-Key': subscription_key,\n",
        "        'Ocp-Apim-Subscription-Region': location,\n",
        "        'Content-type': 'application/json',\n",
        "        'X-ClientTraceId': str(os.urandom(16))\n",
        "    }\n",
        "    body = [{\n",
        "        'text': text\n",
        "    }]\n",
        "    params = {\n",
        "        'api-version': '3.0',\n",
        "        'from': 'en',\n",
        "        'to': target_language\n",
        "    }\n",
        "    request = requests.post(constructed_url, params=params, headers=headers, json=body)\n",
        "    return request.json()\n",
        "    return response[0][\"translations\"][0][\"text\"]\n"
      ],
      "metadata": {
        "id": "s_RO50cYJcye"
      },
      "execution_count": 37,
      "outputs": []
    },
    {
      "cell_type": "code",
      "source": [
        "translator_text(\"I know you're somewhere out there, somewhere far away\", language_destination)"
      ],
      "metadata": {
        "colab": {
          "base_uri": "https://localhost:8080/"
        },
        "id": "Go3lqyxjK091",
        "outputId": "bd3ba848-522b-47be-87ae-c678049725c8"
      },
      "execution_count": 38,
      "outputs": [
        {
          "output_type": "execute_result",
          "data": {
            "text/plain": [
              "[{'translations': [{'text': 'Eu sei que você está em algum lugar lá fora, em algum lugar distante',\n",
              "    'to': 'pt'}]}]"
            ]
          },
          "metadata": {},
          "execution_count": 38
        }
      ]
    },
    {
      "cell_type": "code",
      "source": [
        "\n",
        "def translate_document(path, language_destination):\n",
        "    document = Document(path)\n",
        "    full_text = []\n",
        "\n",
        "    for paragraph in document.paragraphs:\n",
        "        translated_response = translator_text(paragraph.text, language_destination)\n",
        "        # Extrair a string do texto traduzido\n",
        "        if translated_response and translated_response[0]['translations']: # Verificar se a resposta é válida\n",
        "          translated_text = translated_response[0]['translations'][0]['text']\n",
        "          full_text.append(translated_text)\n",
        "\n",
        "    translated_doc = Document()\n",
        "    for line in full_text:\n",
        "        translated_doc.add_paragraph(line)\n",
        "\n",
        "    path_translated = path.replace(\".docx\", f\"_{language_destination}.docx\")\n",
        "    translated_doc.save(path_translated)\n",
        "    return path_translated\n",
        "\n",
        "input_file = \"/content/drive/MyDrive/musica.docx\"\n",
        "translate_document(input_file, language_destination)"
      ],
      "metadata": {
        "colab": {
          "base_uri": "https://localhost:8080/",
          "height": 1000
        },
        "id": "gDhohQEnNFtL",
        "outputId": "97b7e119-1f64-4408-efff-9796783a6eca"
      },
      "execution_count": 41,
      "outputs": [
        {
          "output_type": "stream",
          "name": "stdout",
          "text": [
            "Eu sei que você está em algum lugar lá fora\n",
            "Em algum lugar distante\n",
            "Eu quero você de volta\n",
            "Eu quero você de volta\n",
            "Meus vizinhos acham que eu sou louco\n",
            "Mas eles não entendem\n",
            "Você é tudo que eu tinha\n",
            "Você é tudo que eu tinha\n",
            "\n",
            "À noite, quando as estrelas iluminam meu quarto\n",
            "Eu sento sozinho\n",
            "\n",
            "Conversando com a Lua\n",
            "Try'na chegar até você\n",
            "Na esperança de que você esteja do outro lado\n",
            "Falando comigo também\n",
            "Ou eu sou um tolo que se senta sozinho\n",
            "Falando com a Lua?\n",
            "Oh, oh\n",
            "\n",
            "Estou me sentindo como se fosse famoso\n",
            "O assunto da cidade\n",
            "Eles dizem que eu enlouqueci\n",
            "Sim, eu enlouqueci\n",
            "\n",
            "Mas eles não sabem o que eu sei\n",
            "Porque quando o sol se põe\n",
            "Alguém está respondendo\n",
            "Sim, eles estão respondendo, oh\n",
            "\n",
            "À noite, quando as estrelas iluminam meu quarto\n",
            "Eu sento sozinho\n",
            "\n",
            "Conversando com a Lua\n",
            "Try'na chegar até você\n",
            "Na esperança de que você esteja do outro lado\n",
            "Falando comigo também\n",
            "Ou eu sou um tolo que se senta sozinho\n",
            "Falando com a Lua?\n",
            "\n",
            "Ah, ah, ah\n",
            "Você já me ouviu chamando?\n",
            "Oh-oh-oh, oh-oh-oh (ah, ah, ah)\n",
            "Porque todas as noites\n",
            "Estou falando com a Lua\n",
            "\n",
            "Ainda tentando chegar até você\n",
            "Na esperança de que você esteja do outro lado\n",
            "Falando comigo também\n",
            "Ou eu sou um tolo que se senta sozinho\n",
            "Falando com a Lua?\n",
            "Oh, oh\n",
            "\n",
            "Eu sei que você está em algum lugar lá fora\n",
            "Em algum lugar distante\n",
            "\n"
          ]
        },
        {
          "output_type": "execute_result",
          "data": {
            "text/plain": [
              "'/content/drive/MyDrive/musica_pt-br.docx'"
            ],
            "application/vnd.google.colaboratory.intrinsic+json": {
              "type": "string"
            }
          },
          "metadata": {},
          "execution_count": 41
        }
      ]
    },
    {
      "cell_type": "code",
      "source": [
        "input_file = \"/content/drive/MyDrive/musica.docx\"\n",
        "translate_document(input_file, language_destination)"
      ],
      "metadata": {
        "colab": {
          "base_uri": "https://localhost:8080/",
          "height": 1000
        },
        "id": "ESp-HVbQOHgi",
        "outputId": "4fc7b2be-2311-4fc0-b346-3c2ff1a1fc72"
      },
      "execution_count": 42,
      "outputs": [
        {
          "output_type": "stream",
          "name": "stdout",
          "text": [
            "Eu sei que você está em algum lugar lá fora\n",
            "Em algum lugar distante\n",
            "Eu quero você de volta\n",
            "Eu quero você de volta\n",
            "Meus vizinhos acham que eu sou louco\n",
            "Mas eles não entendem\n",
            "Você é tudo que eu tinha\n",
            "Você é tudo que eu tinha\n",
            "\n",
            "À noite, quando as estrelas iluminam meu quarto\n",
            "Eu sento sozinho\n",
            "\n",
            "Conversando com a Lua\n",
            "Try'na chegar até você\n",
            "Na esperança de que você esteja do outro lado\n",
            "Falando comigo também\n",
            "Ou eu sou um tolo que se senta sozinho\n",
            "Falando com a Lua?\n",
            "Oh, oh\n",
            "\n",
            "Estou me sentindo como se fosse famoso\n",
            "O assunto da cidade\n",
            "Eles dizem que eu enlouqueci\n",
            "Sim, eu enlouqueci\n",
            "\n",
            "Mas eles não sabem o que eu sei\n",
            "Porque quando o sol se põe\n",
            "Alguém está respondendo\n",
            "Sim, eles estão respondendo, oh\n",
            "\n",
            "À noite, quando as estrelas iluminam meu quarto\n",
            "Eu sento sozinho\n",
            "\n",
            "Conversando com a Lua\n",
            "Try'na chegar até você\n",
            "Na esperança de que você esteja do outro lado\n",
            "Falando comigo também\n",
            "Ou eu sou um tolo que se senta sozinho\n",
            "Falando com a Lua?\n",
            "\n",
            "Ah, ah, ah\n",
            "Você já me ouviu chamando?\n",
            "Oh-oh-oh, oh-oh-oh (ah, ah, ah)\n",
            "Porque todas as noites\n",
            "Estou falando com a Lua\n",
            "\n",
            "Ainda tentando chegar até você\n",
            "Na esperança de que você esteja do outro lado\n",
            "Falando comigo também\n",
            "Ou eu sou um tolo que se senta sozinho\n",
            "Falando com a Lua?\n",
            "Oh, oh\n",
            "\n",
            "Eu sei que você está em algum lugar lá fora\n",
            "Em algum lugar distante\n",
            "\n"
          ]
        },
        {
          "output_type": "execute_result",
          "data": {
            "text/plain": [
              "'/content/drive/MyDrive/musica_pt-br.docx'"
            ],
            "application/vnd.google.colaboratory.intrinsic+json": {
              "type": "string"
            }
          },
          "metadata": {},
          "execution_count": 42
        }
      ]
    }
  ]
}